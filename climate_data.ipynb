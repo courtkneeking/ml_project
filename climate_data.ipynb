{
 "cells": [
  {
   "cell_type": "code",
   "execution_count": 1,
   "metadata": {},
   "outputs": [],
   "source": [
    "# Data available: https://www.ncdc.noaa.gov/cdo-web/search\n",
    "# 1.csv Jan 1, 2013- April 5, 2022\n",
    "# 2.csv Jan 1, 2003 – December 31, 2012 \n",
    "# 3.csv Jan 1, 1993 - December 31, 2002 \n",
    "# 4.csv Jan 1, 1983 - December 31, 1992 \n",
    "# 5.csv Jan 1, 1973 - December 31, 1982 "
   ]
  },
  {
   "cell_type": "code",
   "execution_count": 2,
   "metadata": {},
   "outputs": [],
   "source": [
    "import pandas as pd\n",
    "import numpy as np\n",
    "import math\n",
    "from datetime import datetime"
   ]
  },
  {
   "cell_type": "code",
   "execution_count": 3,
   "metadata": {},
   "outputs": [],
   "source": [
    "import sqlite3\n",
    "conn = sqlite3.connect('database.db')\n",
    "cur = conn.cursor()"
   ]
  },
  {
   "cell_type": "code",
   "execution_count": 4,
   "metadata": {},
   "outputs": [],
   "source": [
    "ncd_cols = ['DATE', \n",
    "            'HourlyAltimeterSetting', 'HourlyDryBulbTemperature', \n",
    "            'HourlyDewPointTemperature', 'HourlyRelativeHumidity', \n",
    "            'HourlyWindSpeed', 'HourlyWindDirection']"
   ]
  },
  {
   "cell_type": "code",
   "execution_count": 5,
   "metadata": {
    "scrolled": true
   },
   "outputs": [
    {
     "name": "stderr",
     "output_type": "stream",
     "text": [
      "/opt/anaconda3/lib/python3.8/site-packages/IPython/core/interactiveshell.py:3071: DtypeWarning: Columns (42,43,57) have mixed types.Specify dtype option on import or set low_memory=False.\n",
      "  has_raised = await self.run_ast_nodes(code_ast.body, cell_name,\n",
      "/opt/anaconda3/lib/python3.8/site-packages/IPython/core/interactiveshell.py:3071: DtypeWarning: Columns (42,43,44,49,57) have mixed types.Specify dtype option on import or set low_memory=False.\n",
      "  has_raised = await self.run_ast_nodes(code_ast.body, cell_name,\n",
      "/opt/anaconda3/lib/python3.8/site-packages/IPython/core/interactiveshell.py:3071: DtypeWarning: Columns (42,43,44,55) have mixed types.Specify dtype option on import or set low_memory=False.\n",
      "  has_raised = await self.run_ast_nodes(code_ast.body, cell_name,\n",
      "/opt/anaconda3/lib/python3.8/site-packages/IPython/core/interactiveshell.py:3071: DtypeWarning: Columns (42) have mixed types.Specify dtype option on import or set low_memory=False.\n",
      "  has_raised = await self.run_ast_nodes(code_ast.body, cell_name,\n"
     ]
    }
   ],
   "source": [
    "df1 = pd.read_csv('datasets/nenana_climate/1.csv', usecols = ncd_cols) \n",
    "df2 = pd.read_csv('datasets/nenana_climate/2.csv', usecols = ncd_cols) \n",
    "df3 = pd.read_csv('datasets/nenana_climate/3.csv', usecols = ncd_cols) \n",
    "df4 = pd.read_csv('datasets/nenana_climate/4.csv', usecols = ncd_cols) \n",
    "df5 = pd.read_csv('datasets/nenana_climate/5.csv', usecols = ncd_cols)  "
   ]
  },
  {
   "cell_type": "code",
   "execution_count": 6,
   "metadata": {},
   "outputs": [],
   "source": [
    "date_object = lambda d : datetime.strptime(d, '%Y-%m-%dT%H:%M:%S')\n",
    "shortened_date = lambda d : datetime.strptime(d[:10], '%Y-%m-%d')\n",
    "# to fix some numerical values saved as strings; some end with 's'\n",
    "remove_s = lambda n : (float(n[:-1]) if n.endswith('s') else float(n)) if type(n)== str else n"
   ]
  },
  {
   "cell_type": "code",
   "execution_count": 7,
   "metadata": {},
   "outputs": [],
   "source": [
    "df1 = df1.dropna()\n",
    "df1['date_obj']= df1['DATE'].apply(date_object)\n",
    "df1['short_day']= df1['DATE'].apply(shortened_date)\n",
    "df1['HourlyDewPointTemperature'] = df1['HourlyDewPointTemperature'].apply(remove_s)\n",
    "df1['HourlyAltimeterSetting']   = df1['HourlyAltimeterSetting'].apply(remove_s)\n",
    "df1['HourlyDryBulbTemperature'] = df1['HourlyDryBulbTemperature'].apply(remove_s)"
   ]
  },
  {
   "cell_type": "code",
   "execution_count": 8,
   "metadata": {
    "scrolled": true
   },
   "outputs": [],
   "source": [
    "df2 = df2.dropna()\n",
    "df2['date_obj']= df2['DATE'].apply(date_object)\n",
    "df2['short_day']= df2['DATE'].apply(shortened_date)\n",
    "# this dataset has some random astericks for values \n",
    "df2 = df2.replace('*', pd.NA) \n",
    "df2 = df2.dropna()\n",
    "df2['HourlyDewPointTemperature'] = df2['HourlyDewPointTemperature'].apply(remove_s)\n",
    "df2['HourlyAltimeterSetting']   = df2['HourlyAltimeterSetting'].apply(remove_s)\n",
    "df2['HourlyDryBulbTemperature'] = df2['HourlyDryBulbTemperature'].apply(remove_s)"
   ]
  },
  {
   "cell_type": "code",
   "execution_count": 9,
   "metadata": {},
   "outputs": [],
   "source": [
    "df3 = df3.dropna()\n",
    "df3['date_obj']= df3['DATE'].apply(date_object)\n",
    "df3['short_day']= df3['DATE'].apply(shortened_date)\n",
    "df3['HourlyDewPointTemperature'] = df3['HourlyDewPointTemperature'].apply(remove_s)\n",
    "df3['HourlyAltimeterSetting']   = df3['HourlyAltimeterSetting'].apply(remove_s)\n",
    "df3['HourlyDryBulbTemperature'] = df3['HourlyDryBulbTemperature'].apply(remove_s)"
   ]
  },
  {
   "cell_type": "code",
   "execution_count": 10,
   "metadata": {
    "scrolled": true
   },
   "outputs": [],
   "source": [
    "df4 = df4.dropna()\n",
    "df4['date_obj']= df4['DATE'].apply(date_object)\n",
    "df4['short_day']= df4['DATE'].apply(shortened_date)\n",
    "df4['HourlyDewPointTemperature'] = df4['HourlyDewPointTemperature'].apply(remove_s)\n",
    "df4['HourlyAltimeterSetting']   = df4['HourlyAltimeterSetting'].apply(remove_s)\n",
    "df4['HourlyDryBulbTemperature'] = df4['HourlyDryBulbTemperature'].apply(remove_s)"
   ]
  },
  {
   "cell_type": "code",
   "execution_count": 11,
   "metadata": {
    "scrolled": true
   },
   "outputs": [],
   "source": [
    "df5 = df5.dropna()\n",
    "df5['date_obj']= df5['DATE'].apply(date_object)\n",
    "df5['short_day']= df5['DATE'].apply(shortened_date)\n",
    "df5['HourlyDewPointTemperature'] = df5['HourlyDewPointTemperature'].apply(remove_s)\n",
    "df5['HourlyAltimeterSetting']   = df5['HourlyAltimeterSetting'].apply(remove_s)\n",
    "df5['HourlyDryBulbTemperature'] = df5['HourlyDryBulbTemperature'].apply(remove_s)"
   ]
  },
  {
   "cell_type": "code",
   "execution_count": 12,
   "metadata": {},
   "outputs": [],
   "source": [
    "dailies = pd.concat([df1.groupby('short_day').mean(), \n",
    "        df2.groupby('short_day').mean(), df3.groupby('short_day').mean(), \n",
    "        df4.groupby('short_day').mean(), df5.groupby('short_day').mean()])"
   ]
  },
  {
   "cell_type": "code",
   "execution_count": 13,
   "metadata": {
    "scrolled": true
   },
   "outputs": [
    {
     "data": {
      "text/plain": [
       "(Timestamp('1973-01-05 00:00:00'), Timestamp('2022-01-01 00:00:00'))"
      ]
     },
     "execution_count": 13,
     "metadata": {},
     "output_type": "execute_result"
    }
   ],
   "source": [
    "dailies.index.min(), dailies.index.max()"
   ]
  },
  {
   "cell_type": "code",
   "execution_count": 14,
   "metadata": {},
   "outputs": [],
   "source": [
    "dailies['Year'] = dailies.index.year"
   ]
  },
  {
   "cell_type": "code",
   "execution_count": 15,
   "metadata": {},
   "outputs": [],
   "source": [
    "dailies = dailies.reset_index()"
   ]
  },
  {
   "cell_type": "code",
   "execution_count": 16,
   "metadata": {},
   "outputs": [],
   "source": [
    "dailies.to_sql('daily_climate', conn, if_exists='replace', index = False)"
   ]
  },
  {
   "cell_type": "code",
   "execution_count": 17,
   "metadata": {},
   "outputs": [
    {
     "data": {
      "text/html": [
       "<div>\n",
       "<style scoped>\n",
       "    .dataframe tbody tr th:only-of-type {\n",
       "        vertical-align: middle;\n",
       "    }\n",
       "\n",
       "    .dataframe tbody tr th {\n",
       "        vertical-align: top;\n",
       "    }\n",
       "\n",
       "    .dataframe thead th {\n",
       "        text-align: right;\n",
       "    }\n",
       "</style>\n",
       "<table border=\"1\" class=\"dataframe\">\n",
       "  <thead>\n",
       "    <tr style=\"text-align: right;\">\n",
       "      <th></th>\n",
       "      <th>short_day</th>\n",
       "      <th>HourlyAltimeterSetting</th>\n",
       "      <th>HourlyDewPointTemperature</th>\n",
       "      <th>HourlyDryBulbTemperature</th>\n",
       "      <th>HourlyRelativeHumidity</th>\n",
       "      <th>HourlyWindSpeed</th>\n",
       "      <th>HourlyWindDirection</th>\n",
       "      <th>Year</th>\n",
       "    </tr>\n",
       "  </thead>\n",
       "  <tbody>\n",
       "    <tr>\n",
       "      <th>0</th>\n",
       "      <td>2013-01-01</td>\n",
       "      <td>29.340833</td>\n",
       "      <td>16.333333</td>\n",
       "      <td>30.625000</td>\n",
       "      <td>55.625000</td>\n",
       "      <td>NaN</td>\n",
       "      <td>NaN</td>\n",
       "      <td>2013</td>\n",
       "    </tr>\n",
       "    <tr>\n",
       "      <th>1</th>\n",
       "      <td>2013-01-02</td>\n",
       "      <td>29.359167</td>\n",
       "      <td>2.958333</td>\n",
       "      <td>8.416667</td>\n",
       "      <td>78.625000</td>\n",
       "      <td>NaN</td>\n",
       "      <td>NaN</td>\n",
       "      <td>2013</td>\n",
       "    </tr>\n",
       "    <tr>\n",
       "      <th>2</th>\n",
       "      <td>2013-01-03</td>\n",
       "      <td>29.560417</td>\n",
       "      <td>13.375000</td>\n",
       "      <td>27.916667</td>\n",
       "      <td>54.541667</td>\n",
       "      <td>NaN</td>\n",
       "      <td>NaN</td>\n",
       "      <td>2013</td>\n",
       "    </tr>\n",
       "    <tr>\n",
       "      <th>3</th>\n",
       "      <td>2013-01-04</td>\n",
       "      <td>29.714167</td>\n",
       "      <td>2.375000</td>\n",
       "      <td>10.958333</td>\n",
       "      <td>69.375000</td>\n",
       "      <td>NaN</td>\n",
       "      <td>NaN</td>\n",
       "      <td>2013</td>\n",
       "    </tr>\n",
       "    <tr>\n",
       "      <th>4</th>\n",
       "      <td>2013-01-05</td>\n",
       "      <td>29.543333</td>\n",
       "      <td>4.875000</td>\n",
       "      <td>16.416667</td>\n",
       "      <td>60.958333</td>\n",
       "      <td>NaN</td>\n",
       "      <td>NaN</td>\n",
       "      <td>2013</td>\n",
       "    </tr>\n",
       "    <tr>\n",
       "      <th>...</th>\n",
       "      <td>...</td>\n",
       "      <td>...</td>\n",
       "      <td>...</td>\n",
       "      <td>...</td>\n",
       "      <td>...</td>\n",
       "      <td>...</td>\n",
       "      <td>...</td>\n",
       "      <td>...</td>\n",
       "    </tr>\n",
       "    <tr>\n",
       "      <th>15032</th>\n",
       "      <td>1982-12-27</td>\n",
       "      <td>30.000000</td>\n",
       "      <td>5.333333</td>\n",
       "      <td>14.000000</td>\n",
       "      <td>69.000000</td>\n",
       "      <td>11.333333</td>\n",
       "      <td>166.666667</td>\n",
       "      <td>1982</td>\n",
       "    </tr>\n",
       "    <tr>\n",
       "      <th>15033</th>\n",
       "      <td>1982-12-28</td>\n",
       "      <td>30.000000</td>\n",
       "      <td>13.000000</td>\n",
       "      <td>18.000000</td>\n",
       "      <td>81.000000</td>\n",
       "      <td>89.000000</td>\n",
       "      <td>330.000000</td>\n",
       "      <td>1982</td>\n",
       "    </tr>\n",
       "    <tr>\n",
       "      <th>15034</th>\n",
       "      <td>1982-12-29</td>\n",
       "      <td>30.000000</td>\n",
       "      <td>24.400000</td>\n",
       "      <td>39.000000</td>\n",
       "      <td>57.000000</td>\n",
       "      <td>3.600000</td>\n",
       "      <td>125.000000</td>\n",
       "      <td>1982</td>\n",
       "    </tr>\n",
       "    <tr>\n",
       "      <th>15035</th>\n",
       "      <td>1982-12-30</td>\n",
       "      <td>30.174583</td>\n",
       "      <td>27.250000</td>\n",
       "      <td>30.166667</td>\n",
       "      <td>89.333333</td>\n",
       "      <td>3.166667</td>\n",
       "      <td>152.500000</td>\n",
       "      <td>1982</td>\n",
       "    </tr>\n",
       "    <tr>\n",
       "      <th>15036</th>\n",
       "      <td>1982-12-31</td>\n",
       "      <td>30.220000</td>\n",
       "      <td>14.600000</td>\n",
       "      <td>17.466667</td>\n",
       "      <td>88.533333</td>\n",
       "      <td>1.333333</td>\n",
       "      <td>83.333333</td>\n",
       "      <td>1982</td>\n",
       "    </tr>\n",
       "  </tbody>\n",
       "</table>\n",
       "<p>15037 rows × 8 columns</p>\n",
       "</div>"
      ],
      "text/plain": [
       "       short_day  HourlyAltimeterSetting  HourlyDewPointTemperature  \\\n",
       "0     2013-01-01               29.340833                  16.333333   \n",
       "1     2013-01-02               29.359167                   2.958333   \n",
       "2     2013-01-03               29.560417                  13.375000   \n",
       "3     2013-01-04               29.714167                   2.375000   \n",
       "4     2013-01-05               29.543333                   4.875000   \n",
       "...          ...                     ...                        ...   \n",
       "15032 1982-12-27               30.000000                   5.333333   \n",
       "15033 1982-12-28               30.000000                  13.000000   \n",
       "15034 1982-12-29               30.000000                  24.400000   \n",
       "15035 1982-12-30               30.174583                  27.250000   \n",
       "15036 1982-12-31               30.220000                  14.600000   \n",
       "\n",
       "       HourlyDryBulbTemperature  HourlyRelativeHumidity  HourlyWindSpeed  \\\n",
       "0                     30.625000               55.625000              NaN   \n",
       "1                      8.416667               78.625000              NaN   \n",
       "2                     27.916667               54.541667              NaN   \n",
       "3                     10.958333               69.375000              NaN   \n",
       "4                     16.416667               60.958333              NaN   \n",
       "...                         ...                     ...              ...   \n",
       "15032                 14.000000               69.000000        11.333333   \n",
       "15033                 18.000000               81.000000        89.000000   \n",
       "15034                 39.000000               57.000000         3.600000   \n",
       "15035                 30.166667               89.333333         3.166667   \n",
       "15036                 17.466667               88.533333         1.333333   \n",
       "\n",
       "       HourlyWindDirection  Year  \n",
       "0                      NaN  2013  \n",
       "1                      NaN  2013  \n",
       "2                      NaN  2013  \n",
       "3                      NaN  2013  \n",
       "4                      NaN  2013  \n",
       "...                    ...   ...  \n",
       "15032           166.666667  1982  \n",
       "15033           330.000000  1982  \n",
       "15034           125.000000  1982  \n",
       "15035           152.500000  1982  \n",
       "15036            83.333333  1982  \n",
       "\n",
       "[15037 rows x 8 columns]"
      ]
     },
     "execution_count": 17,
     "metadata": {},
     "output_type": "execute_result"
    }
   ],
   "source": [
    "dailies"
   ]
  },
  {
   "cell_type": "code",
   "execution_count": null,
   "metadata": {},
   "outputs": [],
   "source": []
  }
 ],
 "metadata": {
  "kernelspec": {
   "display_name": "Python 3",
   "language": "python",
   "name": "python3"
  },
  "language_info": {
   "codemirror_mode": {
    "name": "ipython",
    "version": 3
   },
   "file_extension": ".py",
   "mimetype": "text/x-python",
   "name": "python",
   "nbconvert_exporter": "python",
   "pygments_lexer": "ipython3",
   "version": "3.8.3"
  }
 },
 "nbformat": 4,
 "nbformat_minor": 4
}
